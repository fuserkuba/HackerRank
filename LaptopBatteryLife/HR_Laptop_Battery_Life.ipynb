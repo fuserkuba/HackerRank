{
  "nbformat": 4,
  "nbformat_minor": 0,
  "metadata": {
    "colab": {
      "name": "HR_Laptop_Battery_Life.ipynb",
      "provenance": [],
      "collapsed_sections": [],
      "mount_file_id": "12_TNgRvOEbGieZOQUNOCXbkTgC50QnC0",
      "authorship_tag": "ABX9TyPumqGtayftLFFdo2QpK2Cg",
      "include_colab_link": true
    },
    "kernelspec": {
      "name": "python3",
      "display_name": "Python 3"
    }
  },
  "cells": [
    {
      "cell_type": "markdown",
      "metadata": {
        "id": "view-in-github",
        "colab_type": "text"
      },
      "source": [
        "<a href=\"https://colab.research.google.com/github/fuserkuba/HackerRank/blob/master/LaptopBatteryLife/HR_Laptop_Battery_Life.ipynb\" target=\"_parent\"><img src=\"https://colab.research.google.com/assets/colab-badge.svg\" alt=\"Open In Colab\"/></a>"
      ]
    },
    {
      "cell_type": "code",
      "metadata": {
        "id": "M_5ojURfQlAv",
        "colab_type": "code",
        "colab": {}
      },
      "source": [
        "import pandas as pd\n",
        "import numpy as np\n",
        "\n",
        "path='https://raw.githubusercontent.com/fuserkuba/HackerRank/master/LaptopBatteryLife/'\n",
        "\n",
        "# CHANGE UPLOADED FILE NAME!\n",
        "input_file=path+'trainingdata.txt'\n"
      ],
      "execution_count": 10,
      "outputs": []
    },
    {
      "cell_type": "markdown",
      "metadata": {
        "id": "66X1SBhPucIe",
        "colab_type": "text"
      },
      "source": [
        "**READING INPUT**"
      ]
    },
    {
      "cell_type": "code",
      "metadata": {
        "id": "CAz6M3b7ChIW",
        "colab_type": "code",
        "colab": {
          "base_uri": "https://localhost:8080/",
          "height": 274
        },
        "outputId": "d09a47cf-bc22-47b6-bb3e-b59cdfc6e012"
      },
      "source": [
        "df=pd.read_csv(input_file, sep=',',header=None)\n",
        "#df.info"
      ],
      "execution_count": 12,
      "outputs": [
        {
          "output_type": "execute_result",
          "data": {
            "text/plain": [
              "<bound method DataFrame.info of        0     1\n",
              "0   2.81  5.62\n",
              "1   7.14  8.00\n",
              "2   2.72  5.44\n",
              "3   3.87  7.74\n",
              "4   1.90  3.80\n",
              "..   ...   ...\n",
              "95  4.38  8.00\n",
              "96  8.06  8.00\n",
              "97  8.05  8.00\n",
              "98  1.10  2.20\n",
              "99  6.65  8.00\n",
              "\n",
              "[100 rows x 2 columns]>"
            ]
          },
          "metadata": {
            "tags": []
          },
          "execution_count": 12
        }
      ]
    },
    {
      "cell_type": "markdown",
      "metadata": {
        "id": "9y7hwajCq8vw",
        "colab_type": "text"
      },
      "source": [
        "**EXPLORING DATA SET**"
      ]
    },
    {
      "cell_type": "code",
      "metadata": {
        "id": "rHgNNqbirDp1",
        "colab_type": "code",
        "colab": {}
      },
      "source": [
        ""
      ],
      "execution_count": null,
      "outputs": []
    },
    {
      "cell_type": "markdown",
      "metadata": {
        "id": "lxeLg3-NuTVL",
        "colab_type": "text"
      },
      "source": [
        "**PREPARE TRAIN AND TEST DATA**"
      ]
    },
    {
      "cell_type": "code",
      "metadata": {
        "id": "t9orMLUxmLcA",
        "colab_type": "code",
        "colab": {}
      },
      "source": [
        "X_train=a_train[:,:-1]\n",
        "#print(X_train.shape)\n",
        "y_train=a_train[:,-1]\n",
        "#print(y_train.shape)\n",
        "X_test=a_predict\n",
        "#print(X_test.shape)"
      ],
      "execution_count": null,
      "outputs": []
    },
    {
      "cell_type": "markdown",
      "metadata": {
        "id": "3_GVkN0oxYAU",
        "colab_type": "text"
      },
      "source": [
        "**FEATURE ENGINEERING**"
      ]
    },
    {
      "cell_type": "code",
      "metadata": {
        "id": "ZcZbTu4KxmN4",
        "colab_type": "code",
        "colab": {}
      },
      "source": [
        "from sklearn.preprocessing import PolynomialFeatures\n",
        "\n",
        "poly = PolynomialFeatures(3)\n",
        "\n",
        "X_train=poly.fit_transform(X_train)\n",
        "#print(X_train.shape)\n",
        "X_test=poly.fit_transform(X_test)\n",
        "#print(X_test.shape)"
      ],
      "execution_count": null,
      "outputs": []
    },
    {
      "cell_type": "code",
      "metadata": {
        "id": "G8-ubnYWCszU",
        "colab_type": "code",
        "colab": {}
      },
      "source": [
        "from sklearn.linear_model import LinearRegression\n",
        "\n",
        "model = LinearRegression()\n",
        "\n",
        "model.fit(X_train,y_train)\n",
        "\n",
        "y_predict=model.predict(X_test)"
      ],
      "execution_count": null,
      "outputs": []
    },
    {
      "cell_type": "markdown",
      "metadata": {
        "id": "Iz5HwW-FvuS3",
        "colab_type": "text"
      },
      "source": [
        "**OUTPUT DATA**"
      ]
    },
    {
      "cell_type": "code",
      "metadata": {
        "id": "SIJP79jovy5N",
        "colab_type": "code",
        "colab": {
          "base_uri": "https://localhost:8080/",
          "height": 90
        },
        "outputId": "eb435b94-0d9e-4450-dbd1-b07fdb517bd0"
      },
      "source": [
        "#print(y_predict.shape)\n",
        "print(*y_predict, sep='\\n')"
      ],
      "execution_count": null,
      "outputs": [
        {
          "output_type": "stream",
          "text": [
            "180.38843746420187\n",
            "1312.1200861835218\n",
            "440.2288822436217\n",
            "343.6718978546449\n"
          ],
          "name": "stdout"
        }
      ]
    },
    {
      "cell_type": "code",
      "metadata": {
        "id": "sdniICj9to1O",
        "colab_type": "code",
        "colab": {}
      },
      "source": [
        ""
      ],
      "execution_count": null,
      "outputs": []
    }
  ]
}