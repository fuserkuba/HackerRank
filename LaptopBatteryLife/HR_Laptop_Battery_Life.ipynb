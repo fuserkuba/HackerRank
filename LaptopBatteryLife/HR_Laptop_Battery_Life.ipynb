{
  "nbformat": 4,
  "nbformat_minor": 0,
  "metadata": {
    "colab": {
      "name": "HR_Polynomial Regression_Office Prices.ipynb",
      "provenance": [],
      "collapsed_sections": [],
      "mount_file_id": "1tmm5t89KuT5I7LybOCVgJVQgC0x4pv90",
      "authorship_tag": "ABX9TyM35FItnWfs/nth4L6RJ+9G",
      "include_colab_link": true
    },
    "kernelspec": {
      "name": "python3",
      "display_name": "Python 3"
    }
  },
  "cells": [
    {
      "cell_type": "markdown",
      "metadata": {
        "id": "view-in-github",
        "colab_type": "text"
      },
      "source": [
        "<a href=\"https://colab.research.google.com/github/fuserkuba/HackerRank/blob/master/HR_Polynomial_Regression_Office_Prices.ipynb\" target=\"_parent\"><img src=\"https://colab.research.google.com/assets/colab-badge.svg\" alt=\"Open In Colab\"/></a>"
      ]
    },
    {
      "cell_type": "code",
      "metadata": {
        "id": "M_5ojURfQlAv",
        "colab_type": "code",
        "colab": {
          "base_uri": "https://localhost:8080/",
          "height": 35
        },
        "outputId": "a0ef183f-bba3-4788-e699-c347b79fe792"
      },
      "source": [
        "from google.colab import drive\n",
        "import pandas as pd\n",
        "import numpy as np\n",
        "\n",
        "drive.mount('/content/drive/', force_remount=True)\n",
        "path='drive/My Drive/Colab Notebooks/'\n",
        "\n",
        "# CHANGE UPLOADED FILE NAME!\n",
        "input_file='input03.txt'\n",
        "\n",
        "input=open(path+input_file,'r').readlines()"
      ],
      "execution_count": 11,
      "outputs": [
        {
          "output_type": "stream",
          "text": [
            "Mounted at /content/drive/\n"
          ],
          "name": "stdout"
        }
      ]
    },
    {
      "cell_type": "markdown",
      "metadata": {
        "id": "66X1SBhPucIe",
        "colab_type": "text"
      },
      "source": [
        "**READING FILE LINES AS ITERATOR**\n",
        "\n",
        "change next(input_iter) by input() if necessary"
      ]
    },
    {
      "cell_type": "code",
      "metadata": {
        "id": "CAz6M3b7ChIW",
        "colab_type": "code",
        "colab": {}
      },
      "source": [
        "#print(len(input))\n",
        "input_iter=iter(input)\n",
        "\n",
        "F, N=map(int,next(input_iter).split())\n",
        "#print(F,N)\n",
        "a_train=np.array([next(input_iter).split() for _ in range(N)],float)\n",
        "#print(a_train.shape)\n",
        "T=int(next(input_iter))\n",
        "#print(T)\n",
        "a_predict=np.array([next(input_iter).split() for _ in range(T)],float)\n",
        "#print(a_predict.shape)"
      ],
      "execution_count": 12,
      "outputs": []
    },
    {
      "cell_type": "markdown",
      "metadata": {
        "id": "lxeLg3-NuTVL",
        "colab_type": "text"
      },
      "source": [
        "**PREPARE TRAIN AND TEST DATA**"
      ]
    },
    {
      "cell_type": "code",
      "metadata": {
        "id": "t9orMLUxmLcA",
        "colab_type": "code",
        "colab": {}
      },
      "source": [
        "X_train=a_train[:,:-1]\n",
        "#print(X_train.shape)\n",
        "y_train=a_train[:,-1]\n",
        "#print(y_train.shape)\n",
        "X_test=a_predict\n",
        "#print(X_test.shape)"
      ],
      "execution_count": 13,
      "outputs": []
    },
    {
      "cell_type": "markdown",
      "metadata": {
        "id": "3_GVkN0oxYAU",
        "colab_type": "text"
      },
      "source": [
        "**FEATURE ENGINEERING**"
      ]
    },
    {
      "cell_type": "code",
      "metadata": {
        "id": "ZcZbTu4KxmN4",
        "colab_type": "code",
        "colab": {}
      },
      "source": [
        "from sklearn.preprocessing import PolynomialFeatures\n",
        "\n",
        "poly = PolynomialFeatures(3)\n",
        "\n",
        "X_train=poly.fit_transform(X_train)\n",
        "#print(X_train.shape)\n",
        "X_test=poly.fit_transform(X_test)\n",
        "#print(X_test.shape)"
      ],
      "execution_count": 14,
      "outputs": []
    },
    {
      "cell_type": "code",
      "metadata": {
        "id": "G8-ubnYWCszU",
        "colab_type": "code",
        "colab": {}
      },
      "source": [
        "from sklearn.linear_model import LinearRegression\n",
        "\n",
        "model = LinearRegression()\n",
        "\n",
        "model.fit(X_train,y_train)\n",
        "\n",
        "y_predict=model.predict(X_test)"
      ],
      "execution_count": 17,
      "outputs": []
    },
    {
      "cell_type": "markdown",
      "metadata": {
        "id": "Iz5HwW-FvuS3",
        "colab_type": "text"
      },
      "source": [
        "**OUTPUT DATA**"
      ]
    },
    {
      "cell_type": "code",
      "metadata": {
        "id": "SIJP79jovy5N",
        "colab_type": "code",
        "colab": {
          "base_uri": "https://localhost:8080/",
          "height": 90
        },
        "outputId": "eb435b94-0d9e-4450-dbd1-b07fdb517bd0"
      },
      "source": [
        "#print(y_predict.shape)\n",
        "print(*y_predict, sep='\\n')"
      ],
      "execution_count": 16,
      "outputs": [
        {
          "output_type": "stream",
          "text": [
            "180.38843746420187\n",
            "1312.1200861835218\n",
            "440.2288822436217\n",
            "343.6718978546449\n"
          ],
          "name": "stdout"
        }
      ]
    },
    {
      "cell_type": "code",
      "metadata": {
        "id": "sdniICj9to1O",
        "colab_type": "code",
        "colab": {}
      },
      "source": [
        ""
      ],
      "execution_count": 16,
      "outputs": []
    }
  ]
}