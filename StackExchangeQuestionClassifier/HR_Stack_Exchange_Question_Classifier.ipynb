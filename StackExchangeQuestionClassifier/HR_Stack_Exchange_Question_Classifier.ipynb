{
  "nbformat": 4,
  "nbformat_minor": 0,
  "metadata": {
    "colab": {
      "name": "HR_Stack_Exchange_Question_Classifier.ipynb",
      "provenance": [],
      "collapsed_sections": [],
      "toc_visible": true,
      "mount_file_id": "12_TNgRvOEbGieZOQUNOCXbkTgC50QnC0",
      "authorship_tag": "ABX9TyMlUg2r1YeJTINAc95yjZ2P",
      "include_colab_link": true
    },
    "kernelspec": {
      "name": "python3",
      "display_name": "Python 3"
    }
  },
  "cells": [
    {
      "cell_type": "markdown",
      "metadata": {
        "id": "view-in-github",
        "colab_type": "text"
      },
      "source": [
        "<a href=\"https://colab.research.google.com/github/fuserkuba/HackerRank/blob/master/StackExchangeQuestionClassifier/HR_Stack_Exchange_Question_Classifier.ipynb\" target=\"_parent\"><img src=\"https://colab.research.google.com/assets/colab-badge.svg\" alt=\"Open In Colab\"/></a>"
      ]
    },
    {
      "cell_type": "code",
      "metadata": {
        "id": "M_5ojURfQlAv",
        "colab_type": "code",
        "colab": {}
      },
      "source": [
        "import pandas as pd\n",
        "import numpy as np\n",
        "import requests\n",
        "\n",
        "path='https://raw.githubusercontent.com/fuserkuba/HackerRank/master/StackExchangeQuestionClassifier/'\n",
        "\n",
        "input_file=path+'stack-exchange-question-classifier-testcases/input/input00.txt'\n",
        "input=requests.get(input_file).text.split(\"\\n\")\n",
        "\n",
        "output_file=path+'stack-exchange-question-classifier-testcases/output/output00.txt'\n",
        "output=requests.get(output_file).text.split(\"\\n\")\n",
        "\n",
        "training_file=path+'training.json'\n",
        "training=requests.get(training_file).text.split(\"\\n\")\n"
      ],
      "execution_count": 127,
      "outputs": []
    },
    {
      "cell_type": "markdown",
      "metadata": {
        "id": "66X1SBhPucIe",
        "colab_type": "text"
      },
      "source": [
        "# **READING INPUT**"
      ]
    },
    {
      "cell_type": "code",
      "metadata": {
        "id": "CAz6M3b7ChIW",
        "colab_type": "code",
        "colab": {}
      },
      "source": [
        "import json\n",
        "\n",
        "training_iter=iter(training)\n",
        "#T training cases follow. \n",
        "T=int(next(training_iter))\n",
        "df_train=pd.DataFrame([json.loads(next(training_iter)) for _ in range(T)])\n",
        "\n",
        "input_iter=iter(input)\n",
        "#T test cases follow. \n",
        "T=int(next(input_iter))\n",
        "df_input=pd.DataFrame([json.loads(next(input_iter)) for _ in range(T)])\n",
        "\n",
        "y_column='topic'\n",
        "df_output=pd.DataFrame(output,columns=[y_column])\n"
      ],
      "execution_count": 128,
      "outputs": []
    },
    {
      "cell_type": "markdown",
      "metadata": {
        "id": "9y7hwajCq8vw",
        "colab_type": "text"
      },
      "source": [
        "# **EXPLORATORY DATA ANALYSIS**"
      ]
    },
    {
      "cell_type": "code",
      "metadata": {
        "id": "rHgNNqbirDp1",
        "colab_type": "code",
        "colab": {
          "base_uri": "https://localhost:8080/",
          "height": 1000
        },
        "outputId": "17f9ec93-bdea-4b54-8f1a-0cb509270da0"
      },
      "source": [
        "import seaborn as sns #visualisation\n",
        "import matplotlib.pyplot as plt #visualisation\n",
        "from sklearn.preprocessing import StandardScaler\n",
        "\n",
        "print(df_train.dtypes)\n",
        "print(df_train.info)\n",
        "print(df_train.describe())\n",
        "\n",
        "print(df_input.dtypes)\n",
        "print(df_input.info)\n",
        "print(df_input.describe())\n",
        "\n",
        "\n",
        "sns.countplot(x=y_column,data=df_train,palette=\"Greens_d\")\n"
      ],
      "execution_count": 129,
      "outputs": [
        {
          "output_type": "stream",
          "text": [
            "topic       object\n",
            "question    object\n",
            "excerpt     object\n",
            "dtype: object\n",
            "<bound method DataFrame.info of              topic  ...                                            excerpt\n",
            "0      electronics  ...  I'm trying to work out, in general terms, the ...\n",
            "1      electronics  ...  Can I know which component senses heat or acts...\n",
            "2      electronics  ...  I am replacing a wall outlet with a Cooper Wir...\n",
            "3      electronics  ...  i have been reading about the buck converter, ...\n",
            "4      electronics  ...  I need help with deciding on a Master's Projec...\n",
            "...            ...  ...                                                ...\n",
            "20214    wordpress  ...  I have a Custom Post Type called Recipe with p...\n",
            "20215    wordpress  ...  I'm using the code below to track when a user ...\n",
            "20216    wordpress  ...  add_action( 'pre_get_posts', 'custom_pre_get_p...\n",
            "20217    wordpress  ...  i have wordpress blog with many posts. each po...\n",
            "20218    wordpress  ...  I have many issues with the use of rewriting, ...\n",
            "\n",
            "[20219 rows x 3 columns]>\n",
            "        topic                            question          excerpt\n",
            "count   20219                               20219            20219\n",
            "unique     10                               20213            20194\n",
            "top       gis  How to solve this simple equation?  ...\\r\\n        \n",
            "freq     2383                                   2               13\n",
            "question    object\n",
            "excerpt     object\n",
            "dtype: object\n",
            "<bound method DataFrame.info of                                                 question                                            excerpt\n",
            "0      Are there any SciFi treatments of time travel ...  Possible Duplicate:\\n  Why do time-travel stor...\n",
            "1      How to auto strip hyperlinks &amp; images in w...  I creat a post form on front-end for wordpress...\n",
            "2      Why do fantasy writers depict pointy hats as t...  They don't always wear a hat, but when they do...\n",
            "3      Clip polygons with other polygons based on mat...  I have two shapefiles, one which contains even...\n",
            "4      switch_to_blog() performance considerations &a...  I'm currently in the conceptual phase for a mu...\n",
            "...                                                  ...                                                ...\n",
            "21340                     Send DXY-GL command to printer  How to send DXY-GL commands to a plotter? My p...\n",
            "21341           Why can't I open postgis layers in QGIS?  I've set up a table in PostGIS using OSM data ...\n",
            "21342  Preview in OS X 10.8 (rMBP) is very slow if ma...  I do not have a comparison between the OS X ve...\n",
            "21343           E-textiles EMC/FCC and durability issues  I am trying to build a keyboard sewn into a sh...\n",
            "21344  What was the Star Wars parody trailer — was it...  In the late 90's, when Star Wars was re-releas...\n",
            "\n",
            "[21345 rows x 2 columns]>\n",
            "                                                 question          excerpt\n",
            "count                                               21345            21345\n",
            "unique                                              21339            21323\n",
            "top     Using LatticeData to fill a space with spheres...  ...\\r\\n        \n",
            "freq                                                    2               16\n"
          ],
          "name": "stdout"
        },
        {
          "output_type": "execute_result",
          "data": {
            "text/plain": [
              "<matplotlib.axes._subplots.AxesSubplot at 0x7f0c04b39278>"
            ]
          },
          "metadata": {
            "tags": []
          },
          "execution_count": 129
        },
        {
          "output_type": "display_data",
          "data": {
            "image/png": "[encoded data removed]",
            "text/plain": [
              "<Figure size 432x288 with 1 Axes>"
            ]
          },
          "metadata": {
            "tags": [],
            "needs_background": "light"
          }
        }
      ]
    },
    {
      "cell_type": "markdown",
      "metadata": {
        "id": "lxeLg3-NuTVL",
        "colab_type": "text"
      },
      "source": [
        "# **PREPARE TRAIN AND TEST DATA**"
      ]
    },
    {
      "cell_type": "code",
      "metadata": {
        "id": "t9orMLUxmLcA",
        "colab_type": "code",
        "colab": {
          "base_uri": "https://localhost:8080/",
          "height": 606
        },
        "outputId": "0ee26bde-5849-4c27-c4a3-4050767866ea"
      },
      "source": [
        "#Encode topic as categories\n",
        "#df_train.topic=df_train.topic.astype('category')\n",
        "df_train.question.fillna('', inplace=True)\n",
        "\n",
        "# Taking question + excerpt as feature\n",
        "X_train=(df_train.question+df_train.excerpt).values\n",
        "y_train=df_train.topic.values\n",
        "X_test=(df_input.question+df_input.excerpt).values\n",
        "\n",
        "y_test=df_output[df_output[y_column]!=\"\"].values#.reshape(1,-1)\n",
        "\n",
        "#y_test=np.array(list(filter(None,y_test)))\n",
        "print(y_test.shape)\n",
        "\n",
        "\n",
        "print(df_train.info())\n",
        "print(X_train.shape,X_train[:5],sep='\\n')\n",
        "print(y_train.shape,y_train[:5],sep='\\n')\n",
        "\n",
        "print(X_test.shape,X_test[:10])\n",
        "print(y_test.shape)#,y_test[-10:])"
      ],
      "execution_count": 185,
      "outputs": [
        {
          "output_type": "stream",
          "text": [
            "(21345, 1)\n",
            "<class 'pandas.core.frame.DataFrame'>\n",
            "RangeIndex: 20219 entries, 0 to 20218\n",
            "Data columns (total 3 columns):\n",
            " #   Column    Non-Null Count  Dtype \n",
            "---  ------    --------------  ----- \n",
            " 0   topic     20219 non-null  object\n",
            " 1   question  20219 non-null  object\n",
            " 2   excerpt   20219 non-null  object\n",
            "dtypes: object(3)\n",
            "memory usage: 474.0+ KB\n",
            "None\n",
            "(20219,)\n",
            "[\"What is the effective differencial effective of this circuitI'm trying to work out, in general terms, the effective capacitance of this circuit (see diagram: http://i.stack.imgur.com/BS85b.png).  \\n\\nWhat is the effective capacitance of this circuit and will the ...\\r\\n        \"\n",
            " 'Heat sensor with fan coolingCan I know which component senses heat or acts as heat sensor in the following circuit?\\nIn the given diagram, it is said that the 4148 diode acts as the sensor. But basically it is a zener diode and ...\\r\\n        '\n",
            " 'Outlet Installation--more wires than my new outlet can use [on hold]I am replacing a wall outlet with a Cooper Wiring USB outlet (TR7745).  The new outlet has 3 wires coming out of it--a black, a white, and a green.  Each one needs to be attached with a wire nut to ...\\r\\n        '\n",
            " 'Buck Converter Operation Questioni have been reading about the buck converter, and have also referred to the various online resources like here.\\n\\n\\n\\nIn the above circuit, as I understand, when switch closes, current starts to increase ...\\r\\n        '\n",
            " \"Urgent help in area of ASIC design, verification, SoC [on hold]I need help with deciding on a Master's Project and I need some ideas related to the field of ASIC Design/ verification or something related to SoC's, FPGA and or combination. I wish to pursue the ...\\r\\n        \"]\n",
            "(20219,)\n",
            "['electronics' 'electronics' 'electronics' 'electronics' 'electronics']\n",
            "(21345,) ['Are there any SciFi treatments of time travel that avoid the typical paradoxes? [duplicate]Possible Duplicate:\\n  Why do time-travel stories often have the characters “returning” to the future?  \\n\\n\\n\\n\\nThe possibility of time travel normally creates paradoxes. If you can travel into the ...\\r\\n        '\n",
            " 'How to auto strip hyperlinks &amp; images in wordpress postI creat a post form on front-end for wordpress members by use DJD Site Post plugin.\\nPlugin url: http://wordpress.org/extend/plugins/djd-site-post/\\n\\nAnd now i want to auto strip all hyperlink &amp; ...\\r\\n        '\n",
            " \"Why do fantasy writers depict pointy hats as the headgear of choice for Witches and Wizards?They don't always wear a hat, but when they do, it's pointy.\\n\\n\\nWhy do fantasy writers depict pointy hats as the headgear of choice for Witches and Wizards?\\n\\r\\n        \"\n",
            " 'Clip polygons with other polygons based on matching attributesI have two shapefiles, one which contains event locations and the the other of which represents regions where events take place.\\n\\n\\nEvents polygons with year and region_name attributes\\nRegions ...\\r\\n        '\n",
            " \"switch_to_blog() performance considerations &amp; alternativesI'm currently in the conceptual phase for a multisite network.\\n\\nThe rough idea is: There are multiple networked sites and all publish posts for their own. The network admin is able to establish ...\\r\\n        \"\n",
            " \"Nikon in-camera vs lightroom jpg conversion [duplicate]I'm just getting started with Lightroom 4.  I've been shooting RAW + JPG using my Nikon D7000, but would like to just shoot RAW and then convert to JPG in Lightroom.  What's the most efficient way to ...\\r\\n        \"\n",
            " 'Get only form elements in Contact Form 7I want to get only the form elements of a form when applying do_action() for a contact form. My plan is to include only the input fields from other form in a main contact form.\\n\\nFor example:\\nI have a ...\\r\\n        '\n",
            " 'change shell in Solaris/SunOS for your user only wihtout access to /etc/passwdHow do I set the shell in Solaris/SunOS for my user only, without access to /etc/passwd or any other su stuff?\\n\\nIt should thereafter work both for interactive ssh (1) and ssh when you send commands ...\\r\\n        '\n",
            " 'Linux training setupI want to give a tutorial/training type seminar on Linux. I also want to demonstrate certain Linux specific software with audience participation (on their own machines).\\n\\nWhat is the best way to go ...\\r\\n        '\n",
            " 'How did people know so fast that Voldemort died/vanished/disappearedThis question has been treated (for example here or here) but I want to know a very specific detail that strucked me as I re(-re-re-re)-read the first book.\\n\\nPeople celebrated the defeat of Voldemort ...\\r\\n        ']\n",
            "(21345, 1)\n"
          ],
          "name": "stdout"
        }
      ]
    },
    {
      "cell_type": "markdown",
      "metadata": {
        "id": "3_GVkN0oxYAU",
        "colab_type": "text"
      },
      "source": [
        "# **TRAIN MODEL**"
      ]
    },
    {
      "cell_type": "code",
      "metadata": {
        "id": "G8-ubnYWCszU",
        "colab_type": "code",
        "colab": {
          "base_uri": "https://localhost:8080/",
          "height": 752
        },
        "outputId": "59c2c951-7bcb-4c16-dd77-fee10249830c"
      },
      "source": [
        "from sklearn.feature_extraction.text import CountVectorizer\n",
        "from sklearn.feature_extraction.text import TfidfTransformer\n",
        "from sklearn.feature_extraction.text import HashingVectorizer\n",
        "#\n",
        "from sklearn.linear_model import LinearRegression\n",
        "from sklearn.linear_model import SGDClassifier\n",
        "from sklearn.naive_bayes import MultinomialNB\n",
        "#\n",
        "from sklearn.model_selection import GridSearchCV\n",
        "from sklearn.pipeline import Pipeline\n",
        "#\n",
        "from pprint import pprint\n",
        "from time import time\n",
        "\n",
        "#TOKENS_BASIC = '\\\\\\\\S+(?=\\\\\\\\s+)'\n",
        "#Only words without numbers\n",
        "TOKENS_PATTERN='[^\\d\\W]+'\n",
        "\n",
        "#Convert a collection of text documents to a matrix of token counts\n",
        "vec_basic = CountVectorizer(max_df=0.5,\n",
        "                            max_features=50000,\n",
        "                            ngram_range=(1, 2),\n",
        "                            stop_words='english',\n",
        "                            token_pattern=TOKENS_PATTERN)\n",
        "\n",
        "\n",
        "vect = HashingVectorizer(alternate_sign=True, analyzer='word',\n",
        "                                   binary=False, decode_error='strict',\n",
        "                                   encoding='utf-8', input='content',\n",
        "                                   lowercase=True, n_features=1048576,\n",
        "                                   ngram_range=(1, 2), norm=None,\n",
        "                                   preprocessor=None, stop_words='english',\n",
        "                                   strip_accents=None,\n",
        "                                   token_pattern='[^\\\\d\\\\W]+',\n",
        "                                   tokenizer=None)\n",
        "\n",
        "#X_train_vec=vec_basic.fit_transform(X_train)\n",
        "\n",
        "#Transform a count matrix to a normalized tf or tf-idf representation\n",
        "tfidf=TfidfTransformer(norm='l2', smooth_idf=True,sublinear_tf=False, use_idf=True)\n",
        "\n",
        "#X_train_tdidf=tfidf.fit_transform(X_train_vec)\n",
        "#print(X_train_vec.shape)\n",
        "#print(X_train_tdidf.shape)\n",
        "#print(\"There are {} tokwens\".format(len(vec_basic.get_feature_names())))\n",
        "#print(vec_basic.get_feature_names()[:10])\n",
        "\n",
        "#clf=MultinomialNB(alpha=0.5, class_prior=None, fit_prior=True)\n",
        "\n",
        "#Linear classifiers (SVM, logistic regression, etc.) with SGD training.\n",
        "#This estimator implements regularized linear models with stochastic gradient descent (SGD) learnin\n",
        "clf=SGDClassifier(alpha=0.001, average=False, class_weight=None,\n",
        "                               early_stopping=False, epsilon=0.1, eta0=0.0,\n",
        "                               fit_intercept=True, l1_ratio=0.15,\n",
        "                               learning_rate='optimal', loss='hinge',\n",
        "                               max_iter=100, n_iter_no_change=5, n_jobs=None,\n",
        "                               penalty='l2', power_t=0.5, random_state=None,\n",
        "                               shuffle=True, tol=0.001, validation_fraction=0.1,\n",
        "                               verbose=0, warm_start=False)\n",
        "\n",
        "# Define a pipeline combining a text feature extractor with a simple classifier\n",
        "pipeline = Pipeline([\n",
        "    ('vect', vect),\n",
        "    #('tfidf', tfidf),\n",
        "    ('clf', clf),\n",
        "])\n",
        "\n",
        "#Define params\n",
        "parameters = {\n",
        "    #'vect__max_df': (0.5, 0.75, 1.0),\n",
        "    #'vect__max_features': (50000, 100000,500000),\n",
        "    #'vect__ngram_range': ((2, 2), (1, 2)),  # unigrams or bigrams\n",
        "    #'vect__token_pattern': (TOKENS_PATTERN,), # Regular expression denoting what constitutes a “token”\n",
        "    'vect__stop_words': ('english',), # If ‘english’, a built-in stop word list for English is used\n",
        "    #'tfidf__use_idf': (True, False),\n",
        "    #'tfidf__norm': ('l1', 'l2'),\n",
        "    'clf__alpha': (0.0015,0.005,0.009),\n",
        "    'clf__penalty': ('l2', 'l1', 'elasticnet'),\n",
        "    'clf__max_iter':(1000,1500),\n",
        "}\n",
        "\n",
        "# find the best parameters for both the feature extraction and the classifier\n",
        "grid_search = GridSearchCV(pipeline, parameters, n_jobs=-1, verbose=1)\n",
        "\n",
        "print(\"Performing grid search...\")\n",
        "print(\"pipeline:\", [name for name, _ in pipeline.steps])\n",
        "print(\"parameters:\")\n",
        "pprint(parameters)\n",
        "t0 = time()\n",
        "grid_search.fit(X_train, y_train)\n",
        "print(\"done in %0.3fs\" % (time() - t0))\n",
        "print()\n",
        "print(\"Best score: %0.3f\" % grid_search.best_score_)\n",
        "print(\"Best parameters set:\")\n",
        "best_parameters = grid_search.best_estimator_.get_params()\n",
        "for param_name in sorted(parameters.keys()):\n",
        "  print(\"\\t%s: %r\" % (param_name, best_parameters[param_name]))\n",
        "\n",
        "\n",
        "model=grid_search.best_estimator_\n",
        "\n",
        "print(model)"
      ],
      "execution_count": 199,
      "outputs": [
        {
          "output_type": "stream",
          "text": [
            "Performing grid search...\n",
            "pipeline: ['vect', 'clf']\n",
            "parameters:\n",
            "{'clf__alpha': (0.0015, 0.005, 0.009),\n",
            " 'clf__max_iter': (1000, 1500),\n",
            " 'clf__penalty': ('l2', 'l1', 'elasticnet'),\n",
            " 'vect__stop_words': ('english',)}\n",
            "Fitting 5 folds for each of 18 candidates, totalling 90 fits\n"
          ],
          "name": "stdout"
        },
        {
          "output_type": "stream",
          "text": [
            "[Parallel(n_jobs=-1)]: Using backend LokyBackend with 2 concurrent workers.\n",
            "[Parallel(n_jobs=-1)]: Done  46 tasks      | elapsed:  2.1min\n",
            "[Parallel(n_jobs=-1)]: Done  90 out of  90 | elapsed:  3.8min finished\n"
          ],
          "name": "stderr"
        },
        {
          "output_type": "stream",
          "text": [
            "done in 228.283s\n",
            "\n",
            "Best score: 0.904\n",
            "Best parameters set:\n",
            "\tclf__alpha: 0.0015\n",
            "\tclf__max_iter: 1500\n",
            "\tclf__penalty: 'l2'\n",
            "\tvect__stop_words: 'english'\n",
            "Pipeline(memory=None,\n",
            "         steps=[('vect',\n",
            "                 HashingVectorizer(alternate_sign=True, analyzer='word',\n",
            "                                   binary=False, decode_error='strict',\n",
            "                                   dtype=<class 'numpy.float64'>,\n",
            "                                   encoding='utf-8', input='content',\n",
            "                                   lowercase=True, n_features=1048576,\n",
            "                                   ngram_range=(1, 2), norm=None,\n",
            "                                   preprocessor=None, stop_words='english',\n",
            "                                   strip_accents=None,\n",
            "                                   token_pattern='[^\\\\d\\\\W]+',\n",
            "                                   tokenizer=None))...\n",
            "                 SGDClassifier(alpha=0.0015, average=False, class_weight=None,\n",
            "                               early_stopping=False, epsilon=0.1, eta0=0.0,\n",
            "                               fit_intercept=True, l1_ratio=0.15,\n",
            "                               learning_rate='optimal', loss='hinge',\n",
            "                               max_iter=1500, n_iter_no_change=5, n_jobs=None,\n",
            "                               penalty='l2', power_t=0.5, random_state=None,\n",
            "                               shuffle=True, tol=0.001, validation_fraction=0.1,\n",
            "                               verbose=0, warm_start=False))],\n",
            "         verbose=False)\n"
          ],
          "name": "stdout"
        }
      ]
    },
    {
      "cell_type": "markdown",
      "metadata": {
        "id": "Iz5HwW-FvuS3",
        "colab_type": "text"
      },
      "source": [
        "# **TEST MODEL**"
      ]
    },
    {
      "cell_type": "code",
      "metadata": {
        "id": "SIJP79jovy5N",
        "colab_type": "code",
        "colab": {
          "base_uri": "https://localhost:8080/",
          "height": 550
        },
        "outputId": "b2970fef-5968-4672-adc4-9dbd0c831586"
      },
      "source": [
        "from sklearn.metrics import confusion_matrix\n",
        "from sklearn.metrics import classification_report\n",
        "from sklearn.metrics import accuracy_score\n",
        "\n",
        "\n",
        "y_pred=model.predict(X_test)\n",
        "print(\"confusion matrix:\")\n",
        "print(confusion_matrix(y_test, y_pred))\n",
        "print(classification_report(y_test, y_pred))\n",
        "print(accuracy_score(y_test, y_pred))\n",
        "\n"
      ],
      "execution_count": 200,
      "outputs": [
        {
          "output_type": "stream",
          "text": [
            "confusion matrix:\n",
            "[[2136   49   25   11    7   15   14   30   29    8]\n",
            " [  74 1819   13    9   10   23   24   61  130   21]\n",
            " [  27   10 2131    7   30   17   30   19   23    2]\n",
            " [   6   10    8 2349   35    6   13   18   19   15]\n",
            " [   2    8   20   48 1311   15   22    8   27   10]\n",
            " [  11   14   19    6    9 1971   22    8    6    4]\n",
            " [   2    1   10    2    9    5 2407    6    1    0]\n",
            " [  45   44   25   16   11    5   21 1690   98   36]\n",
            " [  26   85   30   17   22    9   20  106 1677   22]\n",
            " [   6    5    7    6    9    7    8   25    9 1991]]\n",
            "              precision    recall  f1-score   support\n",
            "\n",
            "     android       0.91      0.92      0.92      2324\n",
            "       apple       0.89      0.83      0.86      2184\n",
            " electronics       0.93      0.93      0.93      2296\n",
            "         gis       0.95      0.95      0.95      2479\n",
            " mathematica       0.90      0.89      0.90      1471\n",
            "       photo       0.95      0.95      0.95      2070\n",
            "       scifi       0.93      0.99      0.96      2443\n",
            "    security       0.86      0.85      0.85      1991\n",
            "        unix       0.83      0.83      0.83      2014\n",
            "   wordpress       0.94      0.96      0.95      2073\n",
            "\n",
            "    accuracy                           0.91     21345\n",
            "   macro avg       0.91      0.91      0.91     21345\n",
            "weighted avg       0.91      0.91      0.91     21345\n",
            "\n",
            "0.9127196064652143\n"
          ],
          "name": "stdout"
        }
      ]
    },
    {
      "cell_type": "code",
      "metadata": {
        "id": "sdniICj9to1O",
        "colab_type": "code",
        "colab": {}
      },
      "source": [
        ""
      ],
      "execution_count": null,
      "outputs": []
    }
  ]
}