{
  "nbformat": 4,
  "nbformat_minor": 0,
  "metadata": {
    "colab": {
      "name": "Copy of FraudPrediction",
      "provenance": [],
      "collapsed_sections": [],
      "toc_visible": true,
      "authorship_tag": "ABX9TyNGGHrcRdifim+Nc+238xid",
      "include_colab_link": true
    },
    "kernelspec": {
      "name": "python3",
      "display_name": "Python 3"
    }
  },
  "cells": [
    {
      "cell_type": "markdown",
      "metadata": {
        "id": "view-in-github",
        "colab_type": "text"
      },
      "source": [
        "<a href=\"https://colab.research.google.com/github/fuserkuba/HackerRank/blob/master/FraudPrediction.ipynb\" target=\"_parent\"><img src=\"https://colab.research.google.com/assets/colab-badge.svg\" alt=\"Open In Colab\"/></a>"
      ]
    },
    {
      "cell_type": "markdown",
      "metadata": {
        "id": "uy0sHNVZIren"
      },
      "source": [
        "LOADING DATA"
      ]
    },
    {
      "cell_type": "code",
      "metadata": {
        "id": "-B2RLkMD9VG8",
        "colab": {
          "base_uri": "https://localhost:8080/"
        },
        "outputId": "ade45d74-3dd7-457d-aadb-f755b87487ac"
      },
      "source": [
        "import pandas as pd\n",
        "import numpy as np\n",
        "import requests\n",
        "\n",
        "\n",
        "filename = \"https://raw.githubusercontent.com/fuserkuba/ML_Fraud/main/fraud_dataset.csv?token=AC524KOBJ5KZDZIN7WQ5OVTA7XNO4\"\n",
        "\n",
        "df = pd.read_csv(filename, thousands=',')\n",
        "\n",
        "df.info()"
      ],
      "execution_count": 2,
      "outputs": [
        {
          "output_type": "stream",
          "text": [
            "<class 'pandas.core.frame.DataFrame'>\n",
            "RangeIndex: 16880 entries, 0 to 16879\n",
            "Data columns (total 21 columns):\n",
            " #   Column  Non-Null Count  Dtype  \n",
            "---  ------  --------------  -----  \n",
            " 0   A       16880 non-null  int64  \n",
            " 1   B       16880 non-null  int64  \n",
            " 2   C       13683 non-null  float64\n",
            " 3   D       16880 non-null  int64  \n",
            " 4   E       16880 non-null  int64  \n",
            " 5   F       16880 non-null  float64\n",
            " 6   G       16880 non-null  float64\n",
            " 7   H       16880 non-null  int64  \n",
            " 8   I       16880 non-null  int64  \n",
            " 9   J       16880 non-null  object \n",
            " 10  K       4016 non-null   float64\n",
            " 11  L       16880 non-null  int64  \n",
            " 12  M       16880 non-null  int64  \n",
            " 13  N       16880 non-null  int64  \n",
            " 14  O       16880 non-null  int64  \n",
            " 15  P       16880 non-null  int64  \n",
            " 16  Q       16880 non-null  float64\n",
            " 17  R       16880 non-null  float64\n",
            " 18  S       16880 non-null  float64\n",
            " 19  Monto   16880 non-null  float64\n",
            " 20  Fraude  16880 non-null  int64  \n",
            "dtypes: float64(8), int64(12), object(1)\n",
            "memory usage: 2.7+ MB\n"
          ],
          "name": "stdout"
        }
      ]
    },
    {
      "cell_type": "markdown",
      "metadata": {
        "id": "DJFgmq-ZWr0k"
      },
      "source": [
        "## FEATURE ENGINEERING"
      ]
    },
    {
      "cell_type": "code",
      "metadata": {
        "id": "S1UDmUgvW5Cp",
        "colab": {
          "base_uri": "https://localhost:8080/",
          "height": 487
        },
        "outputId": "6c8f8f9d-8d40-4e34-c599-72368d7ffc55"
      },
      "source": [
        "from collections import Counter\n",
        "\n",
        "display(df.head())\n",
        "# display(df.info())\n",
        "print(\"Dataset: {}\".format(df.shape))\n",
        "print('Dataset classes %s' % Counter(df.Fraude))\n",
        "\n",
        "# Eliminando filas con valores nulos en la columna C\n",
        "df_ready = df[df.C.notna()]\n",
        "\n",
        "print(\"\\nFiltered dataset: {}\".format(df_ready.shape))\n",
        "print('Filtered dataset classes %s' % Counter(df_ready.Fraude))\n",
        "display(df_ready.head())"
      ],
      "execution_count": 6,
      "outputs": [
        {
          "output_type": "display_data",
          "data": {
            "text/html": [
              "<div>\n",
              "<style scoped>\n",
              "    .dataframe tbody tr th:only-of-type {\n",
              "        vertical-align: middle;\n",
              "    }\n",
              "\n",
              "    .dataframe tbody tr th {\n",
              "        vertical-align: top;\n",
              "    }\n",
              "\n",
              "    .dataframe thead th {\n",
              "        text-align: right;\n",
              "    }\n",
              "</style>\n",
              "<table border=\"1\" class=\"dataframe\">\n",
              "  <thead>\n",
              "    <tr style=\"text-align: right;\">\n",
              "      <th></th>\n",
              "      <th>A</th>\n",
              "      <th>B</th>\n",
              "      <th>C</th>\n",
              "      <th>D</th>\n",
              "      <th>E</th>\n",
              "      <th>F</th>\n",
              "      <th>G</th>\n",
              "      <th>H</th>\n",
              "      <th>I</th>\n",
              "      <th>J</th>\n",
              "      <th>K</th>\n",
              "      <th>L</th>\n",
              "      <th>M</th>\n",
              "      <th>N</th>\n",
              "      <th>O</th>\n",
              "      <th>P</th>\n",
              "      <th>Q</th>\n",
              "      <th>R</th>\n",
              "      <th>S</th>\n",
              "      <th>Monto</th>\n",
              "      <th>Fraude</th>\n",
              "    </tr>\n",
              "  </thead>\n",
              "  <tbody>\n",
              "    <tr>\n",
              "      <th>0</th>\n",
              "      <td>0</td>\n",
              "      <td>10</td>\n",
              "      <td>50257.0</td>\n",
              "      <td>0</td>\n",
              "      <td>0</td>\n",
              "      <td>0.0</td>\n",
              "      <td>0.0</td>\n",
              "      <td>0</td>\n",
              "      <td>0</td>\n",
              "      <td>UY</td>\n",
              "      <td>0.80</td>\n",
              "      <td>0</td>\n",
              "      <td>3</td>\n",
              "      <td>1</td>\n",
              "      <td>0</td>\n",
              "      <td>5</td>\n",
              "      <td>0.0</td>\n",
              "      <td>0.0</td>\n",
              "      <td>7.25</td>\n",
              "      <td>37.51</td>\n",
              "      <td>1</td>\n",
              "    </tr>\n",
              "    <tr>\n",
              "      <th>1</th>\n",
              "      <td>0</td>\n",
              "      <td>10</td>\n",
              "      <td>29014.0</td>\n",
              "      <td>0</td>\n",
              "      <td>0</td>\n",
              "      <td>0.0</td>\n",
              "      <td>0.0</td>\n",
              "      <td>0</td>\n",
              "      <td>0</td>\n",
              "      <td>UY</td>\n",
              "      <td>NaN</td>\n",
              "      <td>0</td>\n",
              "      <td>1</td>\n",
              "      <td>1</td>\n",
              "      <td>0</td>\n",
              "      <td>3</td>\n",
              "      <td>0.0</td>\n",
              "      <td>0.0</td>\n",
              "      <td>11.66</td>\n",
              "      <td>8.18</td>\n",
              "      <td>1</td>\n",
              "    </tr>\n",
              "    <tr>\n",
              "      <th>2</th>\n",
              "      <td>0</td>\n",
              "      <td>7</td>\n",
              "      <td>92.0</td>\n",
              "      <td>0</td>\n",
              "      <td>1</td>\n",
              "      <td>0.0</td>\n",
              "      <td>0.0</td>\n",
              "      <td>0</td>\n",
              "      <td>1</td>\n",
              "      <td>UY</td>\n",
              "      <td>NaN</td>\n",
              "      <td>0</td>\n",
              "      <td>3</td>\n",
              "      <td>1</td>\n",
              "      <td>0</td>\n",
              "      <td>2</td>\n",
              "      <td>0.0</td>\n",
              "      <td>0.0</td>\n",
              "      <td>86.97</td>\n",
              "      <td>13.96</td>\n",
              "      <td>1</td>\n",
              "    </tr>\n",
              "    <tr>\n",
              "      <th>3</th>\n",
              "      <td>9</td>\n",
              "      <td>16</td>\n",
              "      <td>50269.0</td>\n",
              "      <td>0</td>\n",
              "      <td>0</td>\n",
              "      <td>0.0</td>\n",
              "      <td>0.0</td>\n",
              "      <td>0</td>\n",
              "      <td>0</td>\n",
              "      <td>UY</td>\n",
              "      <td>0.91</td>\n",
              "      <td>0</td>\n",
              "      <td>3</td>\n",
              "      <td>1</td>\n",
              "      <td>0</td>\n",
              "      <td>5</td>\n",
              "      <td>0.0</td>\n",
              "      <td>0.0</td>\n",
              "      <td>2.51</td>\n",
              "      <td>93.67</td>\n",
              "      <td>1</td>\n",
              "    </tr>\n",
              "    <tr>\n",
              "      <th>4</th>\n",
              "      <td>0</td>\n",
              "      <td>8</td>\n",
              "      <td>8180.0</td>\n",
              "      <td>0</td>\n",
              "      <td>0</td>\n",
              "      <td>0.0</td>\n",
              "      <td>0.0</td>\n",
              "      <td>0</td>\n",
              "      <td>0</td>\n",
              "      <td>UY</td>\n",
              "      <td>NaN</td>\n",
              "      <td>0</td>\n",
              "      <td>1</td>\n",
              "      <td>1</td>\n",
              "      <td>0</td>\n",
              "      <td>1</td>\n",
              "      <td>0.0</td>\n",
              "      <td>0.0</td>\n",
              "      <td>25.96</td>\n",
              "      <td>135.40</td>\n",
              "      <td>1</td>\n",
              "    </tr>\n",
              "  </tbody>\n",
              "</table>\n",
              "</div>"
            ],
            "text/plain": [
              "   A   B        C  D  E    F    G  H  ...  N  O  P    Q    R      S   Monto  Fraude\n",
              "0  0  10  50257.0  0  0  0.0  0.0  0  ...  1  0  5  0.0  0.0   7.25   37.51       1\n",
              "1  0  10  29014.0  0  0  0.0  0.0  0  ...  1  0  3  0.0  0.0  11.66    8.18       1\n",
              "2  0   7     92.0  0  1  0.0  0.0  0  ...  1  0  2  0.0  0.0  86.97   13.96       1\n",
              "3  9  16  50269.0  0  0  0.0  0.0  0  ...  1  0  5  0.0  0.0   2.51   93.67       1\n",
              "4  0   8   8180.0  0  0  0.0  0.0  0  ...  1  0  1  0.0  0.0  25.96  135.40       1\n",
              "\n",
              "[5 rows x 21 columns]"
            ]
          },
          "metadata": {
            "tags": []
          }
        },
        {
          "output_type": "stream",
          "text": [
            "Dataset: (16880, 21)\n",
            "Dataset classes Counter({0: 12269, 1: 4611})\n",
            "\n",
            "Filtered dataset: (13683, 21)\n",
            "Filtered dataset classes Counter({0: 9625, 1: 4058})\n"
          ],
          "name": "stdout"
        },
        {
          "output_type": "display_data",
          "data": {
            "text/html": [
              "<div>\n",
              "<style scoped>\n",
              "    .dataframe tbody tr th:only-of-type {\n",
              "        vertical-align: middle;\n",
              "    }\n",
              "\n",
              "    .dataframe tbody tr th {\n",
              "        vertical-align: top;\n",
              "    }\n",
              "\n",
              "    .dataframe thead th {\n",
              "        text-align: right;\n",
              "    }\n",
              "</style>\n",
              "<table border=\"1\" class=\"dataframe\">\n",
              "  <thead>\n",
              "    <tr style=\"text-align: right;\">\n",
              "      <th></th>\n",
              "      <th>A</th>\n",
              "      <th>B</th>\n",
              "      <th>C</th>\n",
              "      <th>D</th>\n",
              "      <th>E</th>\n",
              "      <th>F</th>\n",
              "      <th>G</th>\n",
              "      <th>H</th>\n",
              "      <th>I</th>\n",
              "      <th>J</th>\n",
              "      <th>K</th>\n",
              "      <th>L</th>\n",
              "      <th>M</th>\n",
              "      <th>N</th>\n",
              "      <th>O</th>\n",
              "      <th>P</th>\n",
              "      <th>Q</th>\n",
              "      <th>R</th>\n",
              "      <th>S</th>\n",
              "      <th>Monto</th>\n",
              "      <th>Fraude</th>\n",
              "    </tr>\n",
              "  </thead>\n",
              "  <tbody>\n",
              "    <tr>\n",
              "      <th>0</th>\n",
              "      <td>0</td>\n",
              "      <td>10</td>\n",
              "      <td>50257.0</td>\n",
              "      <td>0</td>\n",
              "      <td>0</td>\n",
              "      <td>0.0</td>\n",
              "      <td>0.0</td>\n",
              "      <td>0</td>\n",
              "      <td>0</td>\n",
              "      <td>UY</td>\n",
              "      <td>0.80</td>\n",
              "      <td>0</td>\n",
              "      <td>3</td>\n",
              "      <td>1</td>\n",
              "      <td>0</td>\n",
              "      <td>5</td>\n",
              "      <td>0.0</td>\n",
              "      <td>0.0</td>\n",
              "      <td>7.25</td>\n",
              "      <td>37.51</td>\n",
              "      <td>1</td>\n",
              "    </tr>\n",
              "    <tr>\n",
              "      <th>1</th>\n",
              "      <td>0</td>\n",
              "      <td>10</td>\n",
              "      <td>29014.0</td>\n",
              "      <td>0</td>\n",
              "      <td>0</td>\n",
              "      <td>0.0</td>\n",
              "      <td>0.0</td>\n",
              "      <td>0</td>\n",
              "      <td>0</td>\n",
              "      <td>UY</td>\n",
              "      <td>NaN</td>\n",
              "      <td>0</td>\n",
              "      <td>1</td>\n",
              "      <td>1</td>\n",
              "      <td>0</td>\n",
              "      <td>3</td>\n",
              "      <td>0.0</td>\n",
              "      <td>0.0</td>\n",
              "      <td>11.66</td>\n",
              "      <td>8.18</td>\n",
              "      <td>1</td>\n",
              "    </tr>\n",
              "    <tr>\n",
              "      <th>2</th>\n",
              "      <td>0</td>\n",
              "      <td>7</td>\n",
              "      <td>92.0</td>\n",
              "      <td>0</td>\n",
              "      <td>1</td>\n",
              "      <td>0.0</td>\n",
              "      <td>0.0</td>\n",
              "      <td>0</td>\n",
              "      <td>1</td>\n",
              "      <td>UY</td>\n",
              "      <td>NaN</td>\n",
              "      <td>0</td>\n",
              "      <td>3</td>\n",
              "      <td>1</td>\n",
              "      <td>0</td>\n",
              "      <td>2</td>\n",
              "      <td>0.0</td>\n",
              "      <td>0.0</td>\n",
              "      <td>86.97</td>\n",
              "      <td>13.96</td>\n",
              "      <td>1</td>\n",
              "    </tr>\n",
              "    <tr>\n",
              "      <th>3</th>\n",
              "      <td>9</td>\n",
              "      <td>16</td>\n",
              "      <td>50269.0</td>\n",
              "      <td>0</td>\n",
              "      <td>0</td>\n",
              "      <td>0.0</td>\n",
              "      <td>0.0</td>\n",
              "      <td>0</td>\n",
              "      <td>0</td>\n",
              "      <td>UY</td>\n",
              "      <td>0.91</td>\n",
              "      <td>0</td>\n",
              "      <td>3</td>\n",
              "      <td>1</td>\n",
              "      <td>0</td>\n",
              "      <td>5</td>\n",
              "      <td>0.0</td>\n",
              "      <td>0.0</td>\n",
              "      <td>2.51</td>\n",
              "      <td>93.67</td>\n",
              "      <td>1</td>\n",
              "    </tr>\n",
              "    <tr>\n",
              "      <th>4</th>\n",
              "      <td>0</td>\n",
              "      <td>8</td>\n",
              "      <td>8180.0</td>\n",
              "      <td>0</td>\n",
              "      <td>0</td>\n",
              "      <td>0.0</td>\n",
              "      <td>0.0</td>\n",
              "      <td>0</td>\n",
              "      <td>0</td>\n",
              "      <td>UY</td>\n",
              "      <td>NaN</td>\n",
              "      <td>0</td>\n",
              "      <td>1</td>\n",
              "      <td>1</td>\n",
              "      <td>0</td>\n",
              "      <td>1</td>\n",
              "      <td>0.0</td>\n",
              "      <td>0.0</td>\n",
              "      <td>25.96</td>\n",
              "      <td>135.40</td>\n",
              "      <td>1</td>\n",
              "    </tr>\n",
              "  </tbody>\n",
              "</table>\n",
              "</div>"
            ],
            "text/plain": [
              "   A   B        C  D  E    F    G  H  ...  N  O  P    Q    R      S   Monto  Fraude\n",
              "0  0  10  50257.0  0  0  0.0  0.0  0  ...  1  0  5  0.0  0.0   7.25   37.51       1\n",
              "1  0  10  29014.0  0  0  0.0  0.0  0  ...  1  0  3  0.0  0.0  11.66    8.18       1\n",
              "2  0   7     92.0  0  1  0.0  0.0  0  ...  1  0  2  0.0  0.0  86.97   13.96       1\n",
              "3  9  16  50269.0  0  0  0.0  0.0  0  ...  1  0  5  0.0  0.0   2.51   93.67       1\n",
              "4  0   8   8180.0  0  0  0.0  0.0  0  ...  1  0  1  0.0  0.0  25.96  135.40       1\n",
              "\n",
              "[5 rows x 21 columns]"
            ]
          },
          "metadata": {
            "tags": []
          }
        }
      ]
    },
    {
      "cell_type": "code",
      "metadata": {
        "id": "f2vyNphI-pLG",
        "colab": {
          "base_uri": "https://localhost:8080/",
          "height": 439
        },
        "outputId": "e2a9b7ef-a365-4015-9ec6-fc8464ea7e8b"
      },
      "source": [
        "from sklearn.preprocessing import OrdinalEncoder\n",
        "\n",
        "target = ['Fraude']\n",
        "features = df_ready.columns.to_list()\n",
        "features.remove('Fraude')\n",
        "# Eliminando K por ser nulo en la mayoría de los ejemplos\n",
        "features.remove('K')\n",
        "# Encoding de J por ser categórico\n",
        "features.remove('J')\n",
        "enc = OrdinalEncoder()\n",
        "J_encoded = enc.fit_transform(df_ready[['J']].values)\n",
        "\n",
        "X = np.concatenate((df_ready[features].values,J_encoded),axis=1)\n",
        "y = df_ready[target].values.ravel()\n",
        "\n",
        "display(X[:5],X.shape)\n",
        "display(y[:5],y.shape)"
      ],
      "execution_count": 126,
      "outputs": [
        {
          "output_type": "display_data",
          "data": {
            "text/plain": [
              "array([[0.0000e+00, 1.0000e+01, 5.0257e+04, 0.0000e+00, 0.0000e+00,\n",
              "        0.0000e+00, 0.0000e+00, 0.0000e+00, 0.0000e+00, 0.0000e+00,\n",
              "        3.0000e+00, 1.0000e+00, 0.0000e+00, 5.0000e+00, 0.0000e+00,\n",
              "        0.0000e+00, 7.2500e+00, 3.7510e+01, 1.8000e+01],\n",
              "       [0.0000e+00, 1.0000e+01, 2.9014e+04, 0.0000e+00, 0.0000e+00,\n",
              "        0.0000e+00, 0.0000e+00, 0.0000e+00, 0.0000e+00, 0.0000e+00,\n",
              "        1.0000e+00, 1.0000e+00, 0.0000e+00, 3.0000e+00, 0.0000e+00,\n",
              "        0.0000e+00, 1.1660e+01, 8.1800e+00, 1.8000e+01],\n",
              "       [0.0000e+00, 7.0000e+00, 9.2000e+01, 0.0000e+00, 1.0000e+00,\n",
              "        0.0000e+00, 0.0000e+00, 0.0000e+00, 1.0000e+00, 0.0000e+00,\n",
              "        3.0000e+00, 1.0000e+00, 0.0000e+00, 2.0000e+00, 0.0000e+00,\n",
              "        0.0000e+00, 8.6970e+01, 1.3960e+01, 1.8000e+01],\n",
              "       [9.0000e+00, 1.6000e+01, 5.0269e+04, 0.0000e+00, 0.0000e+00,\n",
              "        0.0000e+00, 0.0000e+00, 0.0000e+00, 0.0000e+00, 0.0000e+00,\n",
              "        3.0000e+00, 1.0000e+00, 0.0000e+00, 5.0000e+00, 0.0000e+00,\n",
              "        0.0000e+00, 2.5100e+00, 9.3670e+01, 1.8000e+01],\n",
              "       [0.0000e+00, 8.0000e+00, 8.1800e+03, 0.0000e+00, 0.0000e+00,\n",
              "        0.0000e+00, 0.0000e+00, 0.0000e+00, 0.0000e+00, 0.0000e+00,\n",
              "        1.0000e+00, 1.0000e+00, 0.0000e+00, 1.0000e+00, 0.0000e+00,\n",
              "        0.0000e+00, 2.5960e+01, 1.3540e+02, 1.8000e+01]])"
            ]
          },
          "metadata": {
            "tags": []
          }
        },
        {
          "output_type": "display_data",
          "data": {
            "text/plain": [
              "(13683, 19)"
            ]
          },
          "metadata": {
            "tags": []
          }
        },
        {
          "output_type": "display_data",
          "data": {
            "text/plain": [
              "array([1, 1, 1, 1, 1])"
            ]
          },
          "metadata": {
            "tags": []
          }
        },
        {
          "output_type": "display_data",
          "data": {
            "text/plain": [
              "(13683,)"
            ]
          },
          "metadata": {
            "tags": []
          }
        }
      ]
    },
    {
      "cell_type": "markdown",
      "metadata": {
        "id": "TL4boGTQ-gkH"
      },
      "source": [
        "# TRAINING"
      ]
    },
    {
      "cell_type": "markdown",
      "metadata": {
        "id": "Mv_g590iBZGI"
      },
      "source": [
        "## PREPARE TRAIN AND TEST DATA"
      ]
    },
    {
      "cell_type": "code",
      "metadata": {
        "id": "p7EV71a9Bl6X",
        "colab": {
          "base_uri": "https://localhost:8080/"
        },
        "outputId": "93759b89-ad7c-4b02-f7a7-2cdd48fc14fc"
      },
      "source": [
        "from sklearn.model_selection import train_test_split\n",
        "\n",
        "X_train, X_test, y_train, y_test = train_test_split(X, y, test_size=0.3, random_state=21, stratify=y)\n",
        "\n",
        "print(\"Training set X: {}  y: {}\".format(X_train.shape,y_train.shape))\n",
        "print(\"Test set X: {}  y: {}\".format(X_test.shape,y_test.shape))\n",
        "\n",
        "print('Training dataset shape %s' % Counter(y_train))\n",
        "print('Test dataset shape %s' % Counter(y_test))"
      ],
      "execution_count": 127,
      "outputs": [
        {
          "output_type": "stream",
          "text": [
            "Training set X: (9578, 19)  y: (9578,)\n",
            "Test set X: (4105, 19)  y: (4105,)\n",
            "Training dataset shape Counter({0: 6737, 1: 2841})\n",
            "Test dataset shape Counter({0: 2888, 1: 1217})\n"
          ],
          "name": "stdout"
        }
      ]
    },
    {
      "cell_type": "markdown",
      "metadata": {
        "id": "2ohWyhXARI-E"
      },
      "source": [
        "### RESAMPLING"
      ]
    },
    {
      "cell_type": "code",
      "metadata": {
        "id": "_rxiITfN8nQH",
        "colab": {
          "base_uri": "https://localhost:8080/"
        },
        "outputId": "40864d87-641d-4a32-fda3-11488147b039"
      },
      "source": [
        "from imblearn.combine import SMOTEENN # Combine over- and under-sampling using SMOTE and Edited Nearest Neighbours.\n",
        "from imblearn.over_sampling import SMOTE # Class to perform over-sampling using SMOTE.\n",
        "from imblearn.under_sampling import RandomUnderSampler # Under-sample the majority class(es) by randomly picking samples with or without replacement.\n",
        "from imblearn.pipeline import Pipeline\n",
        "\n",
        "\n",
        "#sme = SMOTEENN(random_state=42)\n",
        "# define pipeline\n",
        "over = SMOTE(sampling_strategy=0.5)\n",
        "under = RandomUnderSampler(sampling_strategy=0.8)\n",
        "steps = [('o', over), ('u', under)]\n",
        "pipeline = Pipeline(steps=steps)\n",
        "\n",
        "# transform the dataset\n",
        "X_res, y_res = pipeline.fit_resample(X_train, y_train)\n",
        "\n",
        "print('Trained dataset shape %s' % Counter(y_train))\n",
        "print('Resampled dataset shape %s' % Counter(y_res))\n",
        "\n",
        "X_train = X_res\n",
        "y_train = y_res"
      ],
      "execution_count": 128,
      "outputs": [
        {
          "output_type": "stream",
          "text": [
            "Trained dataset shape Counter({0: 6737, 1: 2841})\n",
            "Resampled dataset shape Counter({0: 4210, 1: 3368})\n"
          ],
          "name": "stdout"
        },
        {
          "output_type": "stream",
          "text": [
            "/usr/local/lib/python3.7/dist-packages/sklearn/utils/deprecation.py:87: FutureWarning: Function safe_indexing is deprecated; safe_indexing is deprecated in version 0.22 and will be removed in version 0.24.\n",
            "  warnings.warn(msg, category=FutureWarning)\n",
            "/usr/local/lib/python3.7/dist-packages/sklearn/utils/deprecation.py:87: FutureWarning: Function safe_indexing is deprecated; safe_indexing is deprecated in version 0.22 and will be removed in version 0.24.\n",
            "  warnings.warn(msg, category=FutureWarning)\n"
          ],
          "name": "stderr"
        }
      ]
    },
    {
      "cell_type": "markdown",
      "metadata": {
        "id": "2bXj0xDJLx13"
      },
      "source": [
        "## PREPARE TRAINING"
      ]
    },
    {
      "cell_type": "code",
      "metadata": {
        "id": "DYDod6AWG4Ii",
        "colab": {
          "base_uri": "https://localhost:8080/",
          "height": 127
        },
        "outputId": "424e053d-de42-42b4-bc0c-b9de6f076080"
      },
      "source": [
        "from sklearn.preprocessing import StandardScaler\n",
        "#\n",
        "from sklearn.pipeline import Pipeline\n",
        "#\n",
        "from sklearn.neighbors import KNeighborsClassifier\n",
        "from sklearn.ensemble import RandomForestClassifier\n",
        "from sklearn.ensemble import GradientBoostingClassifier\n",
        "import xgboost as xgb\n",
        "\n",
        "#classifier = KNeighborsClassifier(n_neighbors=3)\n",
        "#classifier = RandomForestClassifier(n_jobs=-1)\n",
        "#classifier = xgb.XGBClassifier(objective='binary:logistic', n_estimators=10, seed=123)\n",
        "classifier = GradientBoostingClassifier()\n",
        "\n",
        "parameters = {\n",
        "'clf__learning_rate': [0.15, 0.2],\n",
        "'clf__n_estimators': [100, 200, 300],\n",
        "'clf__max_depth': [6, 8, 10],\n",
        "'clf__max_features': [2, 4],\n",
        "'clf__min_samples_leaf': [18, 19, 20],\n",
        "'clf__loss':['deviance', 'exponential']\n",
        "}\n",
        "\n",
        "\n",
        "steps = [('scaler', StandardScaler()),\n",
        "         ('clf', classifier)]\n",
        "\n",
        "pipeline = Pipeline(steps)\n",
        "\n",
        "# parameters = {'clf__n_neighbors': (3,5,10)}\n",
        "parameters_RandomForestClassifier = {\n",
        "'clf__criterion': ['entropy'],\n",
        "'clf__max_depth': [200, 250, 300],\n",
        "'clf__max_features': [2, 4],\n",
        "'clf__min_samples_leaf': [2, 6],\n",
        "'clf__min_samples_split': [2, 6],\n",
        "'clf__n_estimators': [100, 200, 300],\n",
        "'clf__class_weight': ['balanced_subsample']\n",
        "}\n",
        "parameters_XGBClassifier = {\n",
        "'clf__learning_rate': [0.05,0.1, 0.3],\n",
        "'clf__n_estimators': [250, 300, 350],\n",
        "'clf__subsample': [ 0.5, 0.9],\n",
        "'clf__colsample_bytree': [0.5, 0.9],\n",
        "'clf__max_depth': [8, 10, 12]\n",
        " }\n",
        "\n",
        "display(parameters)\n"
      ],
      "execution_count": 129,
      "outputs": [
        {
          "output_type": "display_data",
          "data": {
            "text/plain": [
              "{'clf__learning_rate': [0.15, 0.2],\n",
              " 'clf__loss': ['deviance', 'exponential'],\n",
              " 'clf__max_depth': [6, 8, 10],\n",
              " 'clf__max_features': [2, 4],\n",
              " 'clf__min_samples_leaf': [18, 19, 20],\n",
              " 'clf__n_estimators': [100, 200, 300]}"
            ]
          },
          "metadata": {
            "tags": []
          }
        }
      ]
    },
    {
      "cell_type": "markdown",
      "metadata": {
        "id": "bpQpqM-4buiG"
      },
      "source": [
        "## CROSS VALIDATION"
      ]
    },
    {
      "cell_type": "code",
      "metadata": {
        "id": "zx5eb6fEap18",
        "colab": {
          "base_uri": "https://localhost:8080/",
          "height": 807
        },
        "outputId": "84c8c601-15d0-4e83-971b-2804ea731df4"
      },
      "source": [
        "from sklearn.model_selection import GridSearchCV\n",
        "from pprint import pprint\n",
        "from time import time\n",
        "\n",
        "grid_search = GridSearchCV(pipeline, parameters, n_jobs=-1, verbose=1, scoring='recall')\n",
        "\n",
        "print(\"Performing grid search...\")\n",
        "print(\"pipeline:\", [name for name, _ in pipeline.steps])\n",
        "t0 = time()\n",
        "grid_search.fit(X_train, y_train)\n",
        "print(\"Done in %0.3fs\" % (time() - t0))\n",
        "print()\n",
        "print(\"Best score: %0.3f\" % grid_search.best_score_)\n",
        "print(\"Best parameters set:\")\n",
        "best_parameters = grid_search.best_estimator_.get_params()\n",
        "for param_name in sorted(parameters.keys()):\n",
        "  print(\"\\t%s: %r\" % (param_name, best_parameters[param_name]))\n",
        "\n",
        "model=grid_search.best_estimator_\n",
        "\n",
        "print(\"\\nBEST MODEL :\")\n",
        "display(model)\n",
        "\n",
        "print(\"BEST SCORE : {}\".format(grid_search.best_score_))"
      ],
      "execution_count": 130,
      "outputs": [
        {
          "output_type": "stream",
          "text": [
            "Performing grid search...\n",
            "pipeline: ['scaler', 'clf']\n",
            "Fitting 5 folds for each of 216 candidates, totalling 1080 fits\n"
          ],
          "name": "stdout"
        },
        {
          "output_type": "stream",
          "text": [
            "[Parallel(n_jobs=-1)]: Using backend LokyBackend with 2 concurrent workers.\n",
            "[Parallel(n_jobs=-1)]: Done  46 tasks      | elapsed:   34.1s\n",
            "[Parallel(n_jobs=-1)]: Done 196 tasks      | elapsed:  3.4min\n",
            "[Parallel(n_jobs=-1)]: Done 446 tasks      | elapsed:  8.2min\n",
            "[Parallel(n_jobs=-1)]: Done 796 tasks      | elapsed: 15.1min\n",
            "[Parallel(n_jobs=-1)]: Done 1080 out of 1080 | elapsed: 20.8min finished\n"
          ],
          "name": "stderr"
        },
        {
          "output_type": "stream",
          "text": [
            "Done in 1253.946s\n",
            "\n",
            "Best score: 0.675\n",
            "Best parameters set:\n",
            "\tclf__learning_rate: 0.2\n",
            "\tclf__loss: 'exponential'\n",
            "\tclf__max_depth: 10\n",
            "\tclf__max_features: 4\n",
            "\tclf__min_samples_leaf: 18\n",
            "\tclf__n_estimators: 300\n",
            "\n",
            "BEST MODEL :\n"
          ],
          "name": "stdout"
        },
        {
          "output_type": "display_data",
          "data": {
            "text/plain": [
              "Pipeline(memory=None,\n",
              "         steps=[('scaler',\n",
              "                 StandardScaler(copy=True, with_mean=True, with_std=True)),\n",
              "                ('clf',\n",
              "                 GradientBoostingClassifier(ccp_alpha=0.0,\n",
              "                                            criterion='friedman_mse', init=None,\n",
              "                                            learning_rate=0.2,\n",
              "                                            loss='exponential', max_depth=10,\n",
              "                                            max_features=4, max_leaf_nodes=None,\n",
              "                                            min_impurity_decrease=0.0,\n",
              "                                            min_impurity_split=None,\n",
              "                                            min_samples_leaf=18,\n",
              "                                            min_samples_split=2,\n",
              "                                            min_weight_fraction_leaf=0.0,\n",
              "                                            n_estimators=300,\n",
              "                                            n_iter_no_change=None,\n",
              "                                            presort='deprecated',\n",
              "                                            random_state=None, subsample=1.0,\n",
              "                                            tol=0.0001, validation_fraction=0.1,\n",
              "                                            verbose=0, warm_start=False))],\n",
              "         verbose=False)"
            ]
          },
          "metadata": {
            "tags": []
          }
        },
        {
          "output_type": "stream",
          "text": [
            "BEST SCORE : 0.6746090184787545\n"
          ],
          "name": "stdout"
        }
      ]
    },
    {
      "cell_type": "markdown",
      "metadata": {
        "id": "fnCXAgMUb8Ip"
      },
      "source": [
        "## TEST MODEL"
      ]
    },
    {
      "cell_type": "code",
      "metadata": {
        "id": "9Fck2oB_cDXW",
        "colab": {
          "base_uri": "https://localhost:8080/",
          "height": 589
        },
        "outputId": "10258f1d-acea-43c7-de5a-5ffc3929a01b"
      },
      "source": [
        "from sklearn.metrics import confusion_matrix\n",
        "from sklearn.metrics import classification_report\n",
        "from sklearn.metrics import precision_recall_curve\n",
        "from sklearn.metrics import roc_auc_score\n",
        "from sklearn.metrics import plot_roc_curve\n",
        "\n",
        "from sklearn.metrics import recall_score\n",
        "from sklearn.metrics import f1_score\n",
        "from sklearn.metrics import balanced_accuracy_score\n",
        "from sklearn.metrics import accuracy_score\n",
        "\n",
        "y_pred = model.predict(X_test)\n",
        "y_score = model.predict_proba(X_test)\n",
        "\n",
        "display(\"confusion matrix:\")\n",
        "print(confusion_matrix(y_test, y_pred))\n",
        "print(classification_report(y_test, y_pred))\n",
        "print(\"Recall score: %0.2f\" % recall_score(y_test, y_pred, average='weighted'))\n",
        "print(\"F1 score: %0.2f\" % f1_score(y_test, y_pred, average='weighted'))\n",
        "#The balanced accuracy in binary and multiclass classification problems to deal with imbalanced datasets. It is defined as the average of recall obtained on each class.\n",
        "print(\"Balanced accuracy score: %0.2f\" % balanced_accuracy_score(y_test, y_pred))\n",
        "print(\"Accuracy: %0.2f\" % accuracy_score(y_test, y_pred))\n",
        "#print(\"ROC_AUC: %0.2f\" % roc_auc_score(y_test, y_pred))\n",
        "\n",
        "fig, ax = plt.subplots()\n",
        "viz = plot_roc_curve(model, X_test, y_test,name='ROC',alpha=0.5, lw=1, ax=ax)\n",
        "ax.set(xlim=[-0.05, 1.05], ylim=[-0.05, 1.05],\n",
        "       title=\"Receiver operating characteristic for best model\")\n",
        "ax.legend(loc=\"lower right\")\n",
        "plt.show()"
      ],
      "execution_count": 131,
      "outputs": [
        {
          "output_type": "display_data",
          "data": {
            "application/vnd.google.colaboratory.intrinsic+json": {
              "type": "string"
            },
            "text/plain": [
              "'confusion matrix:'"
            ]
          },
          "metadata": {
            "tags": []
          }
        },
        {
          "output_type": "stream",
          "text": [
            "[[2341  547]\n",
            " [ 477  740]]\n",
            "              precision    recall  f1-score   support\n",
            "\n",
            "           0       0.83      0.81      0.82      2888\n",
            "           1       0.57      0.61      0.59      1217\n",
            "\n",
            "    accuracy                           0.75      4105\n",
            "   macro avg       0.70      0.71      0.71      4105\n",
            "weighted avg       0.75      0.75      0.75      4105\n",
            "\n",
            "Recall score: 0.75\n",
            "F1 score: 0.75\n",
            "Balanced accuracy score: 0.71\n",
            "Accuracy: 0.75\n"
          ],
          "name": "stdout"
        },
        {
          "output_type": "display_data",
          "data": {
            "image/png": "[encoded data removed]",
            "text/plain": [
              "<Figure size 432x288 with 1 Axes>"
            ]
          },
          "metadata": {
            "tags": [],
            "needs_background": "light"
          }
        }
      ]
    },
    {
      "cell_type": "markdown",
      "metadata": {
        "id": "QNHStJnwgdTm"
      },
      "source": [
        "# SAVE MODEL"
      ]
    },
    {
      "cell_type": "code",
      "metadata": {
        "id": "dOmDZdQigckv",
        "colab": {
          "base_uri": "https://localhost:8080/"
        },
        "outputId": "23431284-af5b-48c2-980d-e9e03aa56d90"
      },
      "source": [
        "import joblib\n",
        "\n",
        "filename='model.joblib'\n",
        "\n",
        "joblib.dump(model, filename)"
      ],
      "execution_count": 132,
      "outputs": [
        {
          "output_type": "execute_result",
          "data": {
            "text/plain": [
              "['model.joblib']"
            ]
          },
          "metadata": {
            "tags": []
          },
          "execution_count": 132
        }
      ]
    }
  ]
}