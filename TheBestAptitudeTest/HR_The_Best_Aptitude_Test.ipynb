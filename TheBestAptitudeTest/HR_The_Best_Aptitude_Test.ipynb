{
  "nbformat": 4,
  "nbformat_minor": 0,
  "metadata": {
    "colab": {
      "name": "HR_The_Best_Aptitude_Test.ipynb",
      "provenance": [],
      "collapsed_sections": [],
      "toc_visible": true,
      "mount_file_id": "12_TNgRvOEbGieZOQUNOCXbkTgC50QnC0",
      "authorship_tag": "ABX9TyMB44EdP1lIZslIqW5droER",
      "include_colab_link": true
    },
    "kernelspec": {
      "name": "python3",
      "display_name": "Python 3"
    }
  },
  "cells": [
    {
      "cell_type": "markdown",
      "metadata": {
        "id": "view-in-github",
        "colab_type": "text"
      },
      "source": [
        "<a href=\"https://colab.research.google.com/github/fuserkuba/HackerRank/blob/master/TheBestAptitudeTest/HR_The_Best_Aptitude_Test.ipynb\" target=\"_parent\"><img src=\"https://colab.research.google.com/assets/colab-badge.svg\" alt=\"Open In Colab\"/></a>"
      ]
    },
    {
      "cell_type": "code",
      "metadata": {
        "id": "M_5ojURfQlAv",
        "colab_type": "code",
        "colab": {
          "base_uri": "https://localhost:8080/",
          "height": 35
        },
        "outputId": "5c55faef-9edd-4b4c-e915-d732436b0d39"
      },
      "source": [
        "import pandas as pd\n",
        "import numpy as np\n",
        "import requests\n",
        "\n",
        "path='https://raw.githubusercontent.com/fuserkuba/HackerRank/master/TheBestAptitudeTest/the-best-aptitude-test-testcases/input/'\n",
        "\n",
        "input_file=path+'input01.txt'\n",
        "\n",
        "input=requests.get(input_file).text.split(\"\\n\")\n",
        "print(input)"
      ],
      "execution_count": 17,
      "outputs": [
        {
          "output_type": "stream",
          "text": [
            "['1', '5', '7.5 7.7 7.9 8.1 8.3', '10 30 20 40 50', '11 9 5 19 29', '21 9 15 19 39', '91 9 75 19 89', '81 99 55 59 89']\n"
          ],
          "name": "stdout"
        }
      ]
    },
    {
      "cell_type": "markdown",
      "metadata": {
        "id": "66X1SBhPucIe",
        "colab_type": "text"
      },
      "source": [
        "# **READING INPUT**"
      ]
    },
    {
      "cell_type": "code",
      "metadata": {
        "id": "CAz6M3b7ChIW",
        "colab_type": "code",
        "colab": {
          "base_uri": "https://localhost:8080/",
          "height": 127
        },
        "outputId": "474af41d-e322-4e9c-d3d2-35c9c934eef5"
      },
      "source": [
        "input_iter=iter(input)\n",
        "\n",
        "#T testcases follow. \n",
        "T=int(next(input_iter))\n",
        "# Number of admitted students\n",
        "N=int(next(input_iter))\n",
        "\n",
        "first_year=np.array(list(map(float,next(input_iter).split(' '))))\n",
        "ap_tests=np.array([list(map(float,next(input_iter).split(' '))) for _ in range(5)])\n",
        "\n",
        "print(first_year)\n",
        "print(ap_tests)\n",
        "\n",
        "y_column='GPA'\n",
        "df=pd.DataFrame(first_year.reshape(-1,1),columns=[y_column])\n",
        "df=pd.concat([pd.DataFrame(ap_tests.T),df],axis=1)\n"
      ],
      "execution_count": 79,
      "outputs": [
        {
          "output_type": "stream",
          "text": [
            "[7.5 7.7 7.9 8.1 8.3]\n",
            "[[10. 30. 20. 40. 50.]\n",
            " [11.  9.  5. 19. 29.]\n",
            " [21.  9. 15. 19. 39.]\n",
            " [91.  9. 75. 19. 89.]\n",
            " [81. 99. 55. 59. 89.]]\n"
          ],
          "name": "stdout"
        }
      ]
    },
    {
      "cell_type": "markdown",
      "metadata": {
        "id": "9y7hwajCq8vw",
        "colab_type": "text"
      },
      "source": [
        "# **EXPLORATORY DATA ANALYSIS**"
      ]
    },
    {
      "cell_type": "code",
      "metadata": {
        "id": "rHgNNqbirDp1",
        "colab_type": "code",
        "colab": {
          "base_uri": "https://localhost:8080/",
          "height": 802
        },
        "outputId": "59854d93-bc20-42f3-c8ed-0d7f0d338e8e"
      },
      "source": [
        "import seaborn as sns #visualisation\n",
        "import matplotlib.pyplot as plt #visualisation\n",
        "from sklearn.preprocessing import StandardScaler\n",
        "\n",
        "print(df.dtypes)\n",
        "print(df.info)\n",
        "print(df.describe())\n",
        "\n",
        "#Displays correlation matrix\n",
        "corr=df.corr('spearman')\n",
        "print(corr)\n",
        "heat_map=sns.heatmap(corr,vmin=-1, vmax=1, center=0,\n",
        "    cmap=sns.diverging_palette(20, 220, n=200),\n",
        "    square=True)\n",
        "plt.show(heat_map)\n",
        "\n",
        "#Plot pairwise bivariate distributions\n",
        "#plt.show(sns.pairplot(df))\n"
      ],
      "execution_count": 113,
      "outputs": [
        {
          "output_type": "stream",
          "text": [
            "0      float64\n",
            "1      float64\n",
            "2      float64\n",
            "3      float64\n",
            "4      float64\n",
            "GPA    float64\n",
            "dtype: object\n",
            "<bound method DataFrame.info of       0     1     2     3     4  GPA\n",
            "0  10.0  11.0  21.0  91.0  81.0  7.5\n",
            "1  30.0   9.0   9.0   9.0  99.0  7.7\n",
            "2  20.0   5.0  15.0  75.0  55.0  7.9\n",
            "3  40.0  19.0  19.0  19.0  59.0  8.1\n",
            "4  50.0  29.0  39.0  89.0  89.0  8.3>\n",
            "               0          1          2          3         4       GPA\n",
            "count   5.000000   5.000000   5.000000   5.000000   5.00000  5.000000\n",
            "mean   30.000000  14.600000  20.600000  56.600000  76.60000  7.900000\n",
            "std    15.811388   9.528903  11.260551  39.532265  19.04731  0.316228\n",
            "min    10.000000   5.000000   9.000000   9.000000  55.00000  7.500000\n",
            "25%    20.000000   9.000000  15.000000  19.000000  59.00000  7.700000\n",
            "50%    30.000000  11.000000  19.000000  75.000000  81.00000  7.900000\n",
            "75%    40.000000  19.000000  21.000000  89.000000  89.00000  8.100000\n",
            "max    50.000000  29.000000  39.000000  91.000000  99.00000  8.300000\n",
            "       0    1    2    3    4  GPA\n",
            "0    1.0  0.7  0.3 -0.3  0.3  0.9\n",
            "1    0.7  1.0  0.8  0.3  0.3  0.6\n",
            "2    0.3  0.8  1.0  0.8  0.0  0.4\n",
            "3   -0.3  0.3  0.8  1.0 -0.2 -0.1\n",
            "4    0.3  0.3  0.0 -0.2  1.0 -0.1\n",
            "GPA  0.9  0.6  0.4 -0.1 -0.1  1.0\n"
          ],
          "name": "stdout"
        },
        {
          "output_type": "display_data",
          "data": {
            "image/png": "[encoded data removed]",
            "text/plain": [
              "<Figure size 432x288 with 2 Axes>"
            ]
          },
          "metadata": {
            "tags": [],
            "needs_background": "light"
          }
        }
      ]
    },
    {
      "cell_type": "markdown",
      "metadata": {
        "id": "lxeLg3-NuTVL",
        "colab_type": "text"
      },
      "source": [
        "# **PREPARE TRAIN AND TEST DATA**"
      ]
    },
    {
      "cell_type": "code",
      "metadata": {
        "id": "t9orMLUxmLcA",
        "colab_type": "code",
        "colab": {
          "base_uri": "https://localhost:8080/",
          "height": 384
        },
        "outputId": "659e4b77-8879-4bb1-a79d-29cddde5498e"
      },
      "source": [
        "df_train=df\n",
        "\n",
        "X_train=df_train.values[:,:-1]\n",
        "y_train=df_train.values[:,-1].reshape(-1,1)\n",
        "\n",
        "print(df_train.info())\n",
        "print(X_train[:10],X_train.shape)\n",
        "print(y_train[:10],y_train.shape)"
      ],
      "execution_count": 86,
      "outputs": [
        {
          "output_type": "stream",
          "text": [
            "<class 'pandas.core.frame.DataFrame'>\n",
            "RangeIndex: 5 entries, 0 to 4\n",
            "Data columns (total 6 columns):\n",
            " #   Column  Non-Null Count  Dtype  \n",
            "---  ------  --------------  -----  \n",
            " 0   0       5 non-null      float64\n",
            " 1   1       5 non-null      float64\n",
            " 2   2       5 non-null      float64\n",
            " 3   3       5 non-null      float64\n",
            " 4   4       5 non-null      float64\n",
            " 5   GPA     5 non-null      float64\n",
            "dtypes: float64(6)\n",
            "memory usage: 368.0 bytes\n",
            "None\n",
            "[[10. 11. 21. 91. 81.]\n",
            " [30.  9.  9.  9. 99.]\n",
            " [20.  5. 15. 75. 55.]\n",
            " [40. 19. 19. 19. 59.]\n",
            " [50. 29. 39. 89. 89.]] (5, 5)\n",
            "[7.5 7.7 7.9 8.1 8.3] (5,)\n"
          ],
          "name": "stdout"
        }
      ]
    },
    {
      "cell_type": "markdown",
      "metadata": {
        "id": "3_GVkN0oxYAU",
        "colab_type": "text"
      },
      "source": [
        "# **TRAIN MODEL**"
      ]
    },
    {
      "cell_type": "code",
      "metadata": {
        "id": "G8-ubnYWCszU",
        "colab_type": "code",
        "colab": {
          "base_uri": "https://localhost:8080/",
          "height": 146
        },
        "outputId": "c878ff73-6dc9-4b3d-a5ce-2ba5a16d6903"
      },
      "source": [
        "from sklearn.linear_model import LinearRegression\n",
        "from sklearn.svm import SVR\n",
        "#Feature ranking with recursive feature elimination.\n",
        "from sklearn.feature_selection import RFE\n",
        "\n",
        "estimator=SVR(kernel=\"linear\")\n",
        "\n",
        "model = RFE(estimator, n_features_to_select=1, step=1)\n",
        "\n",
        "print(X_train)\n",
        "print(y_train)\n",
        "model.fit(X_train,y_train.T)\n",
        "\n",
        "#The feature ranking, such that ranking_[i] corresponds to the ranking position of the i-th feature\n",
        "model.ranking_\n"
      ],
      "execution_count": 114,
      "outputs": [
        {
          "output_type": "stream",
          "text": [
            "[[10. 11. 21. 91. 81.]\n",
            " [30.  9.  9.  9. 99.]\n",
            " [20.  5. 15. 75. 55.]\n",
            " [40. 19. 19. 19. 59.]\n",
            " [50. 29. 39. 89. 89.]]\n",
            "[7.5 7.7 7.9 8.1 8.3]\n"
          ],
          "name": "stdout"
        },
        {
          "output_type": "execute_result",
          "data": {
            "text/plain": [
              "array([1, 4, 2, 5, 3])"
            ]
          },
          "metadata": {
            "tags": []
          },
          "execution_count": 114
        }
      ]
    },
    {
      "cell_type": "markdown",
      "metadata": {
        "id": "Iz5HwW-FvuS3",
        "colab_type": "text"
      },
      "source": [
        "# **TEST MODEL**"
      ]
    },
    {
      "cell_type": "code",
      "metadata": {
        "id": "SIJP79jovy5N",
        "colab_type": "code",
        "colab": {
          "base_uri": "https://localhost:8080/",
          "height": 54
        },
        "outputId": "81995b2b-0882-4345-9ecc-0270e4a58610"
      },
      "source": [
        "# By recursive feature elimination\n",
        "y_predict=model.ranking_.argmin()+1\n",
        "print(y_predict)\n",
        "\n",
        "#By correlation\n",
        "y_predict_corr=abs(df_train.corr()['GPA'].values[:-1]).argmax()+1\n",
        "print(y_predict_corr)\n",
        "\n"
      ],
      "execution_count": 109,
      "outputs": [
        {
          "output_type": "stream",
          "text": [
            "1\n",
            "1\n"
          ],
          "name": "stdout"
        }
      ]
    },
    {
      "cell_type": "code",
      "metadata": {
        "id": "sdniICj9to1O",
        "colab_type": "code",
        "colab": {}
      },
      "source": [
        ""
      ],
      "execution_count": null,
      "outputs": []
    }
  ]
}